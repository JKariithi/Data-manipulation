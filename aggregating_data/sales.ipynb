{
  "cells": [
    {
      "cell_type": "code",
      "execution_count": 2,
      "metadata": {
        "id": "RkmUy7_uZA7f"
      },
      "outputs": [
        {
          "ename": "ModuleNotFoundError",
          "evalue": "No module named 'pandas'",
          "output_type": "error",
          "traceback": [
            "\u001b[0;31m---------------------------------------------------------------------------\u001b[0m",
            "\u001b[0;31mModuleNotFoundError\u001b[0m                       Traceback (most recent call last)",
            "Cell \u001b[0;32mIn[2], line 1\u001b[0m\n\u001b[0;32m----> 1\u001b[0m \u001b[38;5;28;01mimport\u001b[39;00m \u001b[38;5;21;01mpandas\u001b[39;00m \u001b[38;5;28;01mas\u001b[39;00m \u001b[38;5;21;01mpd\u001b[39;00m\n\u001b[1;32m      2\u001b[0m \u001b[38;5;28;01mimport\u001b[39;00m \u001b[38;5;21;01mnumpy\u001b[39;00m \u001b[38;5;28;01mas\u001b[39;00m \u001b[38;5;21;01mnp\u001b[39;00m\n",
            "\u001b[0;31mModuleNotFoundError\u001b[0m: No module named 'pandas'"
          ]
        }
      ],
      "source": [
        "import pandas as pd\n",
        "import numpy as np\n"
      ]
    },
    {
      "cell_type": "code",
      "execution_count": null,
      "metadata": {
        "id": "8aFsDzDOZDic"
      },
      "outputs": [],
      "source": [
        "sales = pd.read_csv(\"sales_subset.csv\", index_col=0)"
      ]
    },
    {
      "cell_type": "code",
      "execution_count": null,
      "metadata": {
        "colab": {
          "base_uri": "https://localhost:8080/"
        },
        "id": "paVNMqT2ZYbJ",
        "outputId": "d2f8dd9d-eed2-4024-b175-bfac92ec66ce"
      },
      "outputs": [
        {
          "data": {
            "text/plain": [
              "Index(['store', 'type', 'department', 'date', 'weekly_sales', 'is_holiday',\n",
              "       'temperature_c', 'fuel_price_usd_per_l', 'unemployment'],\n",
              "      dtype='object')"
            ]
          },
          "execution_count": 5,
          "metadata": {},
          "output_type": "execute_result"
        }
      ],
      "source": [
        "sales.columns"
      ]
    },
    {
      "cell_type": "markdown",
      "metadata": {
        "id": "IoFApR7mZp8e"
      },
      "source": [
        "## Grouped Summary Statistics"
      ]
    },
    {
      "cell_type": "code",
      "execution_count": null,
      "metadata": {
        "colab": {
          "base_uri": "https://localhost:8080/",
          "height": 178
        },
        "id": "VP-9fgZnZbUN",
        "outputId": "da91fdf9-191b-424a-ded2-fa8cda8d8b39"
      },
      "outputs": [
        {
          "data": {
            "text/plain": [
              "type\n",
              "A    9872\n",
              "B     902\n",
              "Name: count, dtype: int64"
            ]
          },
          "execution_count": 6,
          "metadata": {},
          "output_type": "execute_result"
        }
      ],
      "source": [
        "sales['type'].value_counts()"
      ]
    },
    {
      "cell_type": "code",
      "execution_count": null,
      "metadata": {
        "colab": {
          "base_uri": "https://localhost:8080/",
          "height": 206
        },
        "id": "OiNBkOcxauU_",
        "outputId": "81c880a9-b4f8-4142-8a33-f14afd1ba402"
      },
      "outputs": [
        {
          "data": {
            "text/html": [
              "<div>\n",
              "<style scoped>\n",
              "    .dataframe tbody tr th:only-of-type {\n",
              "        vertical-align: middle;\n",
              "    }\n",
              "\n",
              "    .dataframe tbody tr th {\n",
              "        vertical-align: top;\n",
              "    }\n",
              "\n",
              "    .dataframe thead th {\n",
              "        text-align: right;\n",
              "    }\n",
              "</style>\n",
              "<table border=\"1\" class=\"dataframe\">\n",
              "  <thead>\n",
              "    <tr style=\"text-align: right;\">\n",
              "      <th></th>\n",
              "      <th>store</th>\n",
              "      <th>type</th>\n",
              "      <th>department</th>\n",
              "      <th>date</th>\n",
              "      <th>weekly_sales</th>\n",
              "      <th>is_holiday</th>\n",
              "      <th>temperature_c</th>\n",
              "      <th>fuel_price_usd_per_l</th>\n",
              "      <th>unemployment</th>\n",
              "    </tr>\n",
              "  </thead>\n",
              "  <tbody>\n",
              "    <tr>\n",
              "      <th>0</th>\n",
              "      <td>1</td>\n",
              "      <td>A</td>\n",
              "      <td>1</td>\n",
              "      <td>2010-02-05</td>\n",
              "      <td>24924.50</td>\n",
              "      <td>False</td>\n",
              "      <td>5.727778</td>\n",
              "      <td>0.679451</td>\n",
              "      <td>8.106</td>\n",
              "    </tr>\n",
              "    <tr>\n",
              "      <th>1</th>\n",
              "      <td>1</td>\n",
              "      <td>A</td>\n",
              "      <td>1</td>\n",
              "      <td>2010-03-05</td>\n",
              "      <td>21827.90</td>\n",
              "      <td>False</td>\n",
              "      <td>8.055556</td>\n",
              "      <td>0.693452</td>\n",
              "      <td>8.106</td>\n",
              "    </tr>\n",
              "    <tr>\n",
              "      <th>2</th>\n",
              "      <td>1</td>\n",
              "      <td>A</td>\n",
              "      <td>1</td>\n",
              "      <td>2010-04-02</td>\n",
              "      <td>57258.43</td>\n",
              "      <td>False</td>\n",
              "      <td>16.816667</td>\n",
              "      <td>0.718284</td>\n",
              "      <td>7.808</td>\n",
              "    </tr>\n",
              "    <tr>\n",
              "      <th>3</th>\n",
              "      <td>1</td>\n",
              "      <td>A</td>\n",
              "      <td>1</td>\n",
              "      <td>2010-05-07</td>\n",
              "      <td>17413.94</td>\n",
              "      <td>False</td>\n",
              "      <td>22.527778</td>\n",
              "      <td>0.748928</td>\n",
              "      <td>7.808</td>\n",
              "    </tr>\n",
              "    <tr>\n",
              "      <th>4</th>\n",
              "      <td>1</td>\n",
              "      <td>A</td>\n",
              "      <td>1</td>\n",
              "      <td>2010-06-04</td>\n",
              "      <td>17558.09</td>\n",
              "      <td>False</td>\n",
              "      <td>27.050000</td>\n",
              "      <td>0.714586</td>\n",
              "      <td>7.808</td>\n",
              "    </tr>\n",
              "  </tbody>\n",
              "</table>\n",
              "</div>"
            ],
            "text/plain": [
              "   store type  department        date  weekly_sales  is_holiday  \\\n",
              "0      1    A           1  2010-02-05      24924.50       False   \n",
              "1      1    A           1  2010-03-05      21827.90       False   \n",
              "2      1    A           1  2010-04-02      57258.43       False   \n",
              "3      1    A           1  2010-05-07      17413.94       False   \n",
              "4      1    A           1  2010-06-04      17558.09       False   \n",
              "\n",
              "   temperature_c  fuel_price_usd_per_l  unemployment  \n",
              "0       5.727778              0.679451         8.106  \n",
              "1       8.055556              0.693452         8.106  \n",
              "2      16.816667              0.718284         7.808  \n",
              "3      22.527778              0.748928         7.808  \n",
              "4      27.050000              0.714586         7.808  "
            ]
          },
          "execution_count": 7,
          "metadata": {},
          "output_type": "execute_result"
        }
      ],
      "source": [
        "sales.head()"
      ]
    },
    {
      "cell_type": "code",
      "execution_count": null,
      "metadata": {
        "colab": {
          "base_uri": "https://localhost:8080/",
          "height": 178
        },
        "id": "3uxR63T7bjra",
        "outputId": "3e7930cc-80ea-4366-92c2-993257a7ba46"
      },
      "outputs": [
        {
          "data": {
            "text/plain": [
              "type\n",
              "A    23674.667242\n",
              "B    25696.678370\n",
              "Name: weekly_sales, dtype: float64"
            ]
          },
          "execution_count": 8,
          "metadata": {},
          "output_type": "execute_result"
        }
      ],
      "source": [
        "sales_by_type = sales.groupby(\"type\")['weekly_sales'].mean()\n",
        "sales_by_type"
      ]
    },
    {
      "cell_type": "code",
      "execution_count": null,
      "metadata": {
        "colab": {
          "base_uri": "https://localhost:8080/",
          "height": 233
        },
        "id": "kouQZApocEUz",
        "outputId": "94be9a10-3f2c-4ac8-c73f-82c4af9ea486"
      },
      "outputs": [
        {
          "data": {
            "text/html": [
              "<div>\n",
              "<style scoped>\n",
              "    .dataframe tbody tr th:only-of-type {\n",
              "        vertical-align: middle;\n",
              "    }\n",
              "\n",
              "    .dataframe tbody tr th {\n",
              "        vertical-align: top;\n",
              "    }\n",
              "\n",
              "    .dataframe thead th {\n",
              "        text-align: right;\n",
              "    }\n",
              "</style>\n",
              "<table border=\"1\" class=\"dataframe\">\n",
              "  <thead>\n",
              "    <tr style=\"text-align: right;\">\n",
              "      <th></th>\n",
              "      <th>min</th>\n",
              "      <th>max</th>\n",
              "    </tr>\n",
              "    <tr>\n",
              "      <th>type</th>\n",
              "      <th></th>\n",
              "      <th></th>\n",
              "    </tr>\n",
              "  </thead>\n",
              "  <tbody>\n",
              "    <tr>\n",
              "      <th>A</th>\n",
              "      <td>-1098.0</td>\n",
              "      <td>293966.05</td>\n",
              "    </tr>\n",
              "    <tr>\n",
              "      <th>B</th>\n",
              "      <td>-798.0</td>\n",
              "      <td>232558.51</td>\n",
              "    </tr>\n",
              "  </tbody>\n",
              "</table>\n",
              "</div>"
            ],
            "text/plain": [
              "         min        max\n",
              "type                   \n",
              "A    -1098.0  293966.05\n",
              "B     -798.0  232558.51"
            ]
          },
          "execution_count": 9,
          "metadata": {},
          "output_type": "execute_result"
        }
      ],
      "source": [
        "sales_type_min_max = sales.groupby('type')['weekly_sales'].agg(['min', 'max'])\n",
        "sales_type_min_max"
      ]
    },
    {
      "cell_type": "markdown",
      "metadata": {
        "id": "k1MD1exxdr6t"
      },
      "source": [
        "Grouping by multiple variables"
      ]
    },
    {
      "cell_type": "code",
      "execution_count": null,
      "metadata": {
        "colab": {
          "base_uri": "https://localhost:8080/",
          "height": 241
        },
        "id": "vnioyxmAd3gZ",
        "outputId": "26320a84-8ad5-495f-ede4-985215194bf4"
      },
      "outputs": [
        {
          "data": {
            "text/plain": [
              "type  is_holiday\n",
              "A     False         23768.583523\n",
              "      True            590.045250\n",
              "B     False         25751.980533\n",
              "      True            810.705000\n",
              "Name: weekly_sales, dtype: float64"
            ]
          },
          "execution_count": 10,
          "metadata": {},
          "output_type": "execute_result"
        }
      ],
      "source": [
        "sales_by_type_is_holiday = sales.groupby(['type','is_holiday'])['weekly_sales'].mean()\n",
        "sales_by_type_is_holiday"
      ]
    },
    {
      "cell_type": "code",
      "execution_count": null,
      "metadata": {
        "colab": {
          "base_uri": "https://localhost:8080/",
          "height": 175
        },
        "id": "Ny6bcWMigN0m",
        "outputId": "ee35adbb-2b2f-446e-93c7-89ba7c56b90e"
      },
      "outputs": [
        {
          "data": {
            "text/html": [
              "<div>\n",
              "<style scoped>\n",
              "    .dataframe tbody tr th:only-of-type {\n",
              "        vertical-align: middle;\n",
              "    }\n",
              "\n",
              "    .dataframe tbody tr th {\n",
              "        vertical-align: top;\n",
              "    }\n",
              "\n",
              "    .dataframe thead tr th {\n",
              "        text-align: left;\n",
              "    }\n",
              "\n",
              "    .dataframe thead tr:last-of-type th {\n",
              "        text-align: right;\n",
              "    }\n",
              "</style>\n",
              "<table border=\"1\" class=\"dataframe\">\n",
              "  <thead>\n",
              "    <tr>\n",
              "      <th></th>\n",
              "      <th colspan=\"4\" halign=\"left\">unemployment</th>\n",
              "      <th colspan=\"4\" halign=\"left\">fuel_price_usd_per_l</th>\n",
              "    </tr>\n",
              "    <tr>\n",
              "      <th></th>\n",
              "      <th>min</th>\n",
              "      <th>max</th>\n",
              "      <th>mean</th>\n",
              "      <th>median</th>\n",
              "      <th>min</th>\n",
              "      <th>max</th>\n",
              "      <th>mean</th>\n",
              "      <th>median</th>\n",
              "    </tr>\n",
              "    <tr>\n",
              "      <th>type</th>\n",
              "      <th></th>\n",
              "      <th></th>\n",
              "      <th></th>\n",
              "      <th></th>\n",
              "      <th></th>\n",
              "      <th></th>\n",
              "      <th></th>\n",
              "      <th></th>\n",
              "    </tr>\n",
              "  </thead>\n",
              "  <tbody>\n",
              "    <tr>\n",
              "      <th>A</th>\n",
              "      <td>3.879</td>\n",
              "      <td>8.992</td>\n",
              "      <td>7.972611</td>\n",
              "      <td>8.067</td>\n",
              "      <td>0.664129</td>\n",
              "      <td>1.107410</td>\n",
              "      <td>0.744619</td>\n",
              "      <td>0.735455</td>\n",
              "    </tr>\n",
              "    <tr>\n",
              "      <th>B</th>\n",
              "      <td>7.170</td>\n",
              "      <td>9.765</td>\n",
              "      <td>9.279323</td>\n",
              "      <td>9.199</td>\n",
              "      <td>0.760023</td>\n",
              "      <td>1.107674</td>\n",
              "      <td>0.805858</td>\n",
              "      <td>0.803348</td>\n",
              "    </tr>\n",
              "  </tbody>\n",
              "</table>\n",
              "</div>"
            ],
            "text/plain": [
              "     unemployment                         fuel_price_usd_per_l            \\\n",
              "              min    max      mean median                  min       max   \n",
              "type                                                                       \n",
              "A           3.879  8.992  7.972611  8.067             0.664129  1.107410   \n",
              "B           7.170  9.765  9.279323  9.199             0.760023  1.107674   \n",
              "\n",
              "                          \n",
              "          mean    median  \n",
              "type                      \n",
              "A     0.744619  0.735455  \n",
              "B     0.805858  0.803348  "
            ]
          },
          "execution_count": 11,
          "metadata": {},
          "output_type": "execute_result"
        }
      ],
      "source": [
        "unemp_fuel_stats = sales.groupby('type')[['unemployment', 'fuel_price_usd_per_l']].agg(['min', 'max', 'mean', 'median'])\n",
        "unemp_fuel_stats"
      ]
    },
    {
      "cell_type": "markdown",
      "metadata": {},
      "source": [
        "## Pivot Tables"
      ]
    },
    {
      "cell_type": "code",
      "execution_count": null,
      "metadata": {},
      "outputs": [
        {
          "name": "stdout",
          "output_type": "stream",
          "text": [
            "      weekly_sales\n",
            "type              \n",
            "A     23674.667242\n",
            "B     25696.678370\n"
          ]
        }
      ],
      "source": [
        "weekly_sales_by_week = sales.pivot_table(values=\"weekly_sales\", index=\"type\")\n",
        "print(weekly_sales_by_week)"
      ]
    },
    {
      "cell_type": "code",
      "execution_count": null,
      "metadata": {},
      "outputs": [
        {
          "name": "stdout",
          "output_type": "stream",
          "text": [
            "      weekly_sales\n",
            "type              \n",
            "A     23674.667242\n",
            "B     25696.678370\n"
          ]
        },
        {
          "name": "stderr",
          "output_type": "stream",
          "text": [
            "/tmp/ipykernel_12772/4077700094.py:1: FutureWarning: The provided callable <function mean at 0x79de9c3144a0> is currently using DataFrameGroupBy.mean. In a future version of pandas, the provided callable will be used directly. To keep current behavior pass the string \"mean\" instead.\n",
            "  weekly_sales_by_week_mean = sales.pivot_table(values=\"weekly_sales\", index=\"type\", aggfunc= np.mean)\n"
          ]
        }
      ],
      "source": [
        "weekly_sales_by_week_mean = sales.pivot_table(values=\"weekly_sales\", index=\"type\", aggfunc= np.mean)\n",
        "print(weekly_sales_by_week_mean)"
      ]
    },
    {
      "cell_type": "code",
      "execution_count": null,
      "metadata": {},
      "outputs": [
        {
          "name": "stdout",
          "output_type": "stream",
          "text": [
            "              mean       median\n",
            "      weekly_sales weekly_sales\n",
            "type                           \n",
            "A     23674.667242     11943.92\n",
            "B     25696.678370     13336.08\n"
          ]
        }
      ],
      "source": [
        "weekly_sales_by_week_mean_median = sales.pivot_table(values=\"weekly_sales\", index=\"type\", aggfunc=[\"mean\", \"median\"])\n",
        "print(weekly_sales_by_week_mean_median)"
      ]
    },
    {
      "cell_type": "code",
      "execution_count": null,
      "metadata": {},
      "outputs": [
        {
          "name": "stdout",
          "output_type": "stream",
          "text": [
            "department             1              2             3             4  \\\n",
            "type                                                                  \n",
            "A           30961.725379   67600.158788  17160.002955  44285.399091   \n",
            "B           44050.626667  112958.526667  30580.655000  51219.654167   \n",
            "All         32052.467153   71380.022778  18278.390625  44863.253681   \n",
            "\n",
            "department             5             6             7             8  \\\n",
            "type                                                                 \n",
            "A           34821.011364   7136.292652  38454.336818  48583.475303   \n",
            "B           63236.875000  10717.297500  52909.653333  90733.753333   \n",
            "All         37189.000000   7434.709722  39658.946528  52095.998472   \n",
            "\n",
            "department             9            10  ...            91             92  \\\n",
            "type                                    ...                                \n",
            "A           30120.449924  30930.456364  ...  70423.165227  139722.204773   \n",
            "B           66679.301667  48595.126667  ...  13199.602500   50859.278333   \n",
            "All         33167.020903  32402.512222  ...  65654.535000  132316.960903   \n",
            "\n",
            "department            93            94             95            96  \\\n",
            "type                                                                  \n",
            "A           53413.633939  60081.155303  123933.787121  21367.042857   \n",
            "B            1466.274167    161.445833   77082.102500   9528.538333   \n",
            "All         49084.687292  55087.846181  120029.480069  20337.607681   \n",
            "\n",
            "department            97            98          99           All  \n",
            "type                                                              \n",
            "A           28471.266970  12875.423182  379.123659  23674.667242  \n",
            "B            5828.873333    217.428333    0.000000  25696.678370  \n",
            "All         26584.400833  11820.590278  379.123659  23843.950149  \n",
            "\n",
            "[3 rows x 81 columns]\n"
          ]
        }
      ],
      "source": [
        "print(sales.pivot_table(values=\"weekly_sales\", index='type',columns=\"department\", fill_value=0, margins=True))"
      ]
    },
    {
      "cell_type": "code",
      "execution_count": null,
      "metadata": {},
      "outputs": [
        {
          "name": "stdout",
          "output_type": "stream",
          "text": [
            "<class 'pandas.core.frame.DataFrame'>\n",
            "Index: 10774 entries, 0 to 10773\n",
            "Data columns (total 9 columns):\n",
            " #   Column                Non-Null Count  Dtype  \n",
            "---  ------                --------------  -----  \n",
            " 0   store                 10774 non-null  int64  \n",
            " 1   type                  10774 non-null  object \n",
            " 2   department            10774 non-null  int64  \n",
            " 3   date                  10774 non-null  object \n",
            " 4   weekly_sales          10774 non-null  float64\n",
            " 5   is_holiday            10774 non-null  bool   \n",
            " 6   temperature_c         10774 non-null  float64\n",
            " 7   fuel_price_usd_per_l  10774 non-null  float64\n",
            " 8   unemployment          10774 non-null  float64\n",
            "dtypes: bool(1), float64(4), int64(2), object(2)\n",
            "memory usage: 768.1+ KB\n"
          ]
        }
      ],
      "source": [
        "sales.info()"
      ]
    },
    {
      "cell_type": "code",
      "execution_count": null,
      "metadata": {},
      "outputs": [
        {
          "name": "stdout",
          "output_type": "stream",
          "text": [
            "<class 'pandas.core.frame.DataFrame'>\n",
            "Index: 10774 entries, 0 to 10773\n",
            "Data columns (total 2 columns):\n",
            " #   Column        Non-Null Count  Dtype  \n",
            "---  ------        --------------  -----  \n",
            " 0   weekly_sales  10774 non-null  float64\n",
            " 1   department    10774 non-null  int64  \n",
            "dtypes: float64(1), int64(1)\n",
            "memory usage: 252.5 KB\n",
            "None\n"
          ]
        }
      ],
      "source": [
        "print(sales[[\"weekly_sales\",\"department\"]].info())"
      ]
    },
    {
      "cell_type": "code",
      "execution_count": null,
      "metadata": {},
      "outputs": [
        {
          "ename": "NameError",
          "evalue": "name 'sales' is not defined",
          "output_type": "error",
          "traceback": [
            "\u001b[0;31m---------------------------------------------------------------------------\u001b[0m",
            "\u001b[0;31mNameError\u001b[0m                                 Traceback (most recent call last)",
            "Cell \u001b[0;32mIn[1], line 1\u001b[0m\n\u001b[0;32m----> 1\u001b[0m \u001b[43msales\u001b[49m\u001b[38;5;241m.\u001b[39minfo()\n",
            "\u001b[0;31mNameError\u001b[0m: name 'sales' is not defined"
          ]
        }
      ],
      "source": [
        "sales.info()"
      ]
    }
  ],
  "metadata": {
    "colab": {
      "provenance": []
    },
    "kernelspec": {
      "display_name": "Python 3",
      "language": "python",
      "name": "python3"
    },
    "language_info": {
      "codemirror_mode": {
        "name": "ipython",
        "version": 3
      },
      "file_extension": ".py",
      "mimetype": "text/x-python",
      "name": "python",
      "nbconvert_exporter": "python",
      "pygments_lexer": "ipython3",
      "version": "3.12.3"
    }
  },
  "nbformat": 4,
  "nbformat_minor": 0
}
